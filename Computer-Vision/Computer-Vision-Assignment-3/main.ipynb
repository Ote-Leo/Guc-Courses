{
 "cells": [
  {
   "cell_type": "markdown",
   "metadata": {},
   "source": [
    "# Importing Modules"
   ]
  },
  {
   "cell_type": "code",
   "execution_count": null,
   "metadata": {},
   "outputs": [],
   "source": [
    "import numpy as np\n",
    "from matplotlib import pyplot as plt"
   ]
  },
  {
   "cell_type": "markdown",
   "metadata": {},
   "source": [
    "# General Utilities"
   ]
  },
  {
   "cell_type": "markdown",
   "metadata": {},
   "source": [
    "## Render Images"
   ]
  },
  {
   "cell_type": "markdown",
   "metadata": {},
   "source": [
    "### Input: the images & their titles; others configuartions are optional\n",
    "\n",
    "### Description: Since we'll be previewing alot of image (it's a computer vision course), it's quite handy to have a rendering function"
   ]
  },
  {
   "cell_type": "code",
   "execution_count": null,
   "metadata": {},
   "outputs": [],
   "source": [
    "def RenderImage(\n",
    "    images: list[np.ndarray], titles: list[str], \n",
    "    nrows = 1, ncols = 3, figsize = (36, 48), cmap = 'gray'\n",
    "    ) -> None:\n",
    "\n",
    "    plt.subplots(nrows = nrows, ncols = ncols, figsize = figsize)\n",
    "    for i in range((len(images))):\n",
    "        plt.subplot(nrows, ncols, (i + 1))\n",
    "        plt.title(titles[i])\n",
    "        plt.imshow(images[i], cmap = cmap)"
   ]
  },
  {
   "cell_type": "markdown",
   "metadata": {},
   "source": [
    "## Transform To Grey Scale"
   ]
  },
  {
   "cell_type": "markdown",
   "metadata": {},
   "source": [
    "### Input: Image 2D array & Color Weights (optional), by default is set to the weights of the specified rule\n",
    "\n",
    "### Output: A 2D array representing the greyscale version of the image\n",
    "\n",
    "### Description: Converting colored data to greyscale according to\n",
    "\n",
    "$$I_{grey}(p) = 0.3 \\times I_{red}(p) + 0.59 \\times I_{green}(p) + 0.11 \\times I_{blue}(p)$$"
   ]
  },
  {
   "cell_type": "code",
   "execution_count": null,
   "metadata": {},
   "outputs": [],
   "source": [
    "def TransformImage(image: np.ndarray, color_weights = [0.3, 0.59, 0.11]) -> np.ndarray:\n",
    "    return image.dot(color_weights)"
   ]
  },
  {
   "cell_type": "markdown",
   "metadata": {},
   "source": [
    "# Part I - Histogram Equalization"
   ]
  },
  {
   "cell_type": "markdown",
   "metadata": {},
   "source": [
    "## Calculate Histogram"
   ]
  },
  {
   "cell_type": "markdown",
   "metadata": {},
   "source": [
    "### Input: Image\n",
    "### Output: Array of histogram counts\n",
    "### Description: This method is responsible for calculating the normal histogram count at each different grey level with its number of pixels"
   ]
  },
  {
   "cell_type": "code",
   "execution_count": null,
   "metadata": {},
   "outputs": [],
   "source": [
    "def CalculateHistogram(image: np.ndarray) -> np.ndarray:\n",
    "    pass"
   ]
  },
  {
   "cell_type": "markdown",
   "metadata": {},
   "source": [
    "## Calculate Cumulative Histogram"
   ]
  },
  {
   "cell_type": "markdown",
   "metadata": {},
   "source": [
    "### Input: The output array of the method Calculate Histogram\n",
    "### Output: Array of the cumulative histogram\n",
    "### Description: In this method, you have to calculate the cumulative histogram by summing up the counts of the pixels ascendingly"
   ]
  },
  {
   "cell_type": "code",
   "execution_count": null,
   "metadata": {},
   "outputs": [],
   "source": [
    "def CalculateCumulativeHistogram(countHistogram: np.ndarray) -> np.ndarray:\n",
    "    pass"
   ]
  },
  {
   "cell_type": "markdown",
   "metadata": {},
   "source": [
    "## Calculate Equalized Histogram"
   ]
  },
  {
   "cell_type": "markdown",
   "metadata": {},
   "source": [
    "### Input: The output array of method Calcuate Cumulative Histogram\n",
    "### Output: Array of the new pixel intensities that correspond to the original ones\n",
    "### Description: In this method, you are required to calculate the equalized histogram upon the following equation using the cumulative histogram calculated above\n",
    "\n",
    "$$T(P) = \\frac{255}{(N \\times M) - [H_c(0)]} \\times [H_c(P) - H_c(0)]$$\n",
    "\n",
    "where $T(P)$ is the new intensity calculated for intensity $P$, $(N \\times M)$ is the size of the image rows multiplied by columns, $H_c(P)$ is the cumulative histogram of the pixel intensity & $H_c(0)$ is the cumulative histogram of pixel intensity 0"
   ]
  },
  {
   "cell_type": "code",
   "execution_count": null,
   "metadata": {},
   "outputs": [],
   "source": [
    "def CalculateEqualizedHistogram(cumulativeHistogram: np.ndarray) -> np.ndarray:\n",
    "    pass"
   ]
  },
  {
   "cell_type": "markdown",
   "metadata": {},
   "source": [
    "## Calculate Equalized Image"
   ]
  },
  {
   "cell_type": "markdown",
   "metadata": {},
   "source": [
    "### Input: Original image & the output array of method Calculate Equalized Histogram\n",
    "### Output: The equalized image\n",
    "### Description: In this method, you are required t ogenerate the new equalized image after manipulating the old pixel intensity values by teh new values of intensities obtained after calculating the equalized histogram"
   ]
  },
  {
   "cell_type": "code",
   "execution_count": null,
   "metadata": {},
   "outputs": [],
   "source": [
    "def CalculateEqualizedImage(image: np.ndarray, equalizedHistorgram: np.ndarray) -> np.ndarray:\n",
    "    pass"
   ]
  },
  {
   "cell_type": "markdown",
   "metadata": {},
   "source": [
    "# Part II - Optimal Thresholding"
   ]
  },
  {
   "cell_type": "markdown",
   "metadata": {},
   "source": [
    "## Segment Optimal Thresholding"
   ]
  },
  {
   "cell_type": "markdown",
   "metadata": {},
   "source": [
    "### Input: Image\n",
    "### Output: Segmented image\n",
    "### Description: Implements the iterative optimal thresholding "
   ]
  },
  {
   "cell_type": "code",
   "execution_count": null,
   "metadata": {},
   "outputs": [],
   "source": [
    "def OptimalThresholding(image: np.ndarray) -> np.ndarray:\n",
    "    pass"
   ]
  },
  {
   "cell_type": "markdown",
   "metadata": {},
   "source": [
    "# Part III - Putting Everything together"
   ]
  }
 ],
 "metadata": {
  "interpreter": {
   "hash": "a3a39da95ce529ec774213739d578a993aecdb38ad09c5ebea6cf8e61ad85d9a"
  },
  "kernelspec": {
   "display_name": "Python 3.10.0 64-bit ('.env': venv)",
   "language": "python",
   "name": "python3"
  },
  "language_info": {
   "name": "python",
   "version": "3.10.0"
  },
  "orig_nbformat": 4
 },
 "nbformat": 4,
 "nbformat_minor": 2
}
